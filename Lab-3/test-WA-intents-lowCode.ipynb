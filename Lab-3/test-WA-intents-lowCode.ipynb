{
 "cells": [
  {
   "cell_type": "code",
   "execution_count": 4,
   "id": "b76a5766",
   "metadata": {},
   "outputs": [
    {
     "name": "stdout",
     "output_type": "stream",
     "text": [
      "Collecting ibm-watson\n",
      "  Downloading ibm-watson-11.0.0.tar.gz (358 kB)\n",
      "  Installing build dependencies ... \u001b[?25ldone\n",
      "\u001b[?25h  Getting requirements to build wheel ... \u001b[?25ldone\n",
      "\u001b[?25h  Preparing metadata (pyproject.toml) ... \u001b[?25ldone\n",
      "\u001b[?25hRequirement already satisfied: pandas in /Users/ivanp/Downloads/cb-ollama-lines/make_lines/.conda/lib/python3.11/site-packages (2.3.0)\n",
      "Collecting requests<3.0,>=2.0 (from ibm-watson)\n",
      "  Downloading requests-2.32.5-py3-none-any.whl.metadata (4.9 kB)\n",
      "Requirement already satisfied: python_dateutil>=2.5.3 in /Users/ivanp/Downloads/cb-ollama-lines/make_lines/.conda/lib/python3.11/site-packages (from ibm-watson) (2.9.0.post0)\n",
      "Collecting websocket-client>=1.1.0 (from ibm-watson)\n",
      "  Downloading websocket_client-1.9.0-py3-none-any.whl.metadata (8.3 kB)\n",
      "Collecting ibm_cloud_sdk_core==3.*,>=3.3.6 (from ibm-watson)\n",
      "  Downloading ibm_cloud_sdk_core-3.24.2-py3-none-any.whl.metadata (8.7 kB)\n",
      "Collecting urllib3<3.0.0,>=2.4.0 (from ibm_cloud_sdk_core==3.*,>=3.3.6->ibm-watson)\n",
      "  Using cached urllib3-2.5.0-py3-none-any.whl.metadata (6.5 kB)\n",
      "Collecting PyJWT<3.0.0,>=2.10.1 (from ibm_cloud_sdk_core==3.*,>=3.3.6->ibm-watson)\n",
      "  Using cached PyJWT-2.10.1-py3-none-any.whl.metadata (4.0 kB)\n",
      "Requirement already satisfied: six>=1.5 in /Users/ivanp/Downloads/cb-ollama-lines/make_lines/.conda/lib/python3.11/site-packages (from python_dateutil>=2.5.3->ibm-watson) (1.17.0)\n",
      "Collecting charset_normalizer<4,>=2 (from requests<3.0,>=2.0->ibm-watson)\n",
      "  Downloading charset_normalizer-3.4.4-cp311-cp311-macosx_10_9_universal2.whl.metadata (37 kB)\n",
      "Collecting idna<4,>=2.5 (from requests<3.0,>=2.0->ibm-watson)\n",
      "  Downloading idna-3.11-py3-none-any.whl.metadata (8.4 kB)\n",
      "Collecting certifi>=2017.4.17 (from requests<3.0,>=2.0->ibm-watson)\n",
      "  Downloading certifi-2025.10.5-py3-none-any.whl.metadata (2.5 kB)\n",
      "Requirement already satisfied: numpy>=1.23.2 in /Users/ivanp/Downloads/cb-ollama-lines/make_lines/.conda/lib/python3.11/site-packages (from pandas) (2.3.1)\n",
      "Requirement already satisfied: pytz>=2020.1 in /Users/ivanp/Downloads/cb-ollama-lines/make_lines/.conda/lib/python3.11/site-packages (from pandas) (2025.2)\n",
      "Requirement already satisfied: tzdata>=2022.7 in /Users/ivanp/Downloads/cb-ollama-lines/make_lines/.conda/lib/python3.11/site-packages (from pandas) (2025.2)\n",
      "Downloading ibm_cloud_sdk_core-3.24.2-py3-none-any.whl (75 kB)\n",
      "Using cached PyJWT-2.10.1-py3-none-any.whl (22 kB)\n",
      "Downloading requests-2.32.5-py3-none-any.whl (64 kB)\n",
      "Downloading charset_normalizer-3.4.4-cp311-cp311-macosx_10_9_universal2.whl (206 kB)\n",
      "Downloading idna-3.11-py3-none-any.whl (71 kB)\n",
      "Using cached urllib3-2.5.0-py3-none-any.whl (129 kB)\n",
      "Downloading certifi-2025.10.5-py3-none-any.whl (163 kB)\n",
      "Downloading websocket_client-1.9.0-py3-none-any.whl (82 kB)\n",
      "Building wheels for collected packages: ibm-watson\n",
      "  Building wheel for ibm-watson (pyproject.toml) ... \u001b[?25ldone\n",
      "\u001b[?25h  Created wheel for ibm-watson: filename=ibm_watson-11.0.0-py3-none-any.whl size=361695 sha256=d0e4bb5b2698f2d0ace3fd63f3304115ce061dc7c1a1f991824fc9ddcf2925b8\n",
      "  Stored in directory: /Users/ivanp/Library/Caches/pip/wheels/d0/17/97/8398dbd81b9628280393ba5d78aff126302313435f7325f302\n",
      "Successfully built ibm-watson\n",
      "Installing collected packages: websocket-client, urllib3, PyJWT, idna, charset_normalizer, certifi, requests, ibm_cloud_sdk_core, ibm-watson\n",
      "\u001b[2K   \u001b[90m━━━━━━━━━━━━━━━━━━━━━━━━━━━━━━━━━━━━━━━━\u001b[0m \u001b[32m9/9\u001b[0m [ibm-watson]9\u001b[0m [ibm-watson]\n",
      "\u001b[1A\u001b[2KSuccessfully installed PyJWT-2.10.1 certifi-2025.10.5 charset_normalizer-3.4.4 ibm-watson-11.0.0 ibm_cloud_sdk_core-3.24.2 idna-3.11 requests-2.32.5 urllib3-2.5.0 websocket-client-1.9.0\n"
     ]
    }
   ],
   "source": [
    "# !pip install ibm-watson==7.* pandas\n",
    "!pip install ibm-watson pandas"
   ]
  },
  {
   "cell_type": "code",
   "execution_count": 6,
   "id": "6dd5993d",
   "metadata": {},
   "outputs": [
    {
     "name": "stdout",
     "output_type": "stream",
     "text": [
      "Collecting python-dotenv\n",
      "  Downloading python_dotenv-1.1.1-py3-none-any.whl.metadata (24 kB)\n",
      "Downloading python_dotenv-1.1.1-py3-none-any.whl (20 kB)\n",
      "Installing collected packages: python-dotenv\n",
      "Successfully installed python-dotenv-1.1.1\n"
     ]
    }
   ],
   "source": [
    "!pip install python-dotenv"
   ]
  },
  {
   "cell_type": "code",
   "execution_count": 1,
   "id": "55d7e6de",
   "metadata": {},
   "outputs": [
    {
     "name": "stdout",
     "output_type": "stream",
     "text": [
      "Watson Assistant client initialized.\n"
     ]
    }
   ],
   "source": [
    "import os\n",
    "from collections import Counter, defaultdict\n",
    "import pandas as pd\n",
    "from dotenv import load_dotenv\n",
    "from ibm_watson import AssistantV1\n",
    "from ibm_cloud_sdk_core.authenticators import IAMAuthenticator\n",
    "\n",
    "\n",
    "# --- CONFIG ---\n",
    "\n",
    "\n",
    "# Load environment variables from .env if present\n",
    "load_dotenv()\n",
    "\n",
    "# Read from environment (with defaults to empty string)\n",
    "API_KEY = os.getenv(\"WA_API_KEY\", \"\")\n",
    "SERVICE_URL = os.getenv(\"WA_URL\", \"https://api.us-south.assistant.watson.cloud.ibm.com\")\n",
    "WORKSPACE_ID = os.getenv(\"WA_WORKSPACE_ID\", \"\")\n",
    "\n",
    "# --- CONNECT ---\n",
    "authenticator = IAMAuthenticator(API_KEY)\n",
    "assistant = AssistantV1(\n",
    "    version=\"2021-06-14\",\n",
    "    authenticator=authenticator\n",
    ")\n",
    "assistant.set_service_url(SERVICE_URL)\n",
    "\n",
    "print(\"Watson Assistant client initialized.\")\n"
   ]
  },
  {
   "cell_type": "code",
   "execution_count": 2,
   "id": "207d227c",
   "metadata": {},
   "outputs": [
    {
     "name": "stdout",
     "output_type": "stream",
     "text": [
      "[{'intent': 'flower_recommendations', 'confidence': 0.977379322052002}]\n",
      "['Thank you, .', 'You can never go wrong with a dozen red roses.']\n"
     ]
    }
   ],
   "source": [
    "# --- TEST MESSAGE ---\n",
    "response = assistant.message(\n",
    "    workspace_id=WORKSPACE_ID,\n",
    "    input={\"text\": \"What flowers do you recommend for Valentine's Day?\"}\n",
    ").get_result()\n",
    "\n",
    "print(response[\"intents\"])\n",
    "print(response[\"output\"][\"text\"])"
   ]
  },
  {
   "cell_type": "code",
   "execution_count": 10,
   "id": "f418baf5",
   "metadata": {},
   "outputs": [
    {
     "name": "stdout",
     "output_type": "stream",
     "text": [
      "\n",
      "=== Watson Assistant Evaluation ===\n",
      "Samples: 4\n",
      "Strict Accuracy:        0.00%\n",
      "Alias-Adjusted Accuracy:86.67%\n",
      "\n"
     ]
    }
   ],
   "source": [
    "# 🧩 SECTION: Evaluate Watson Assistant intents (Student Exercise)\n",
    "\n",
    "# 🔁 Alias map (your old names → workspace names shown in your screenshot)\n",
    "INTENT_ALIASES = {\n",
    "    \"recommend_flowers\": \"flower_recommendations\",\n",
    "    \"hours\": \"hours_info\",\n",
    "    \"store_location\": \"location_info\",\n",
    "    # keep if you truly have it in your workspace:\n",
    "    \"availability\": \"availability\",  # remove if not present\n",
    "}\n",
    "\n",
    "# 📚 Test set\n",
    "TEST_ITEMS = [\n",
    "    (\"Which flowers for Valentine's Day?\", \"recommend_flowers\"),\n",
    "    (\"Are you open on Sundays?\", \"hours\"),\n",
    "    (\"Where are your stores?\", \"store_location\"),\n",
    "    (\"Do you have red roses in stock?\", \"availability\"),\n",
    "]\n",
    "\n",
    "# --- CONNECT ---\n",
    "# TODO: ❶ Initialize the Watson Assistant client here using API_KEY, SERVICE_URL, WORKSPACE_ID\n",
    "# authenticator = ...\n",
    "# assistant = ...\n",
    "# assistant.set_service_url(...)\n",
    "\n",
    "# --- DISCOVER INTENTS ---\n",
    "# TODO: ❷ Retrieve intents from your workspace and print them\n",
    "# workspace_intents = assistant.list_intents(...).get_result()\n",
    "# actual_intent_names = ...\n",
    "# print(actual_intent_names)\n",
    "\n",
    "# --- EVALUATION LOOP ---\n",
    "rows = []\n",
    "\n",
    "# Define helper function for alias matching\n",
    "def is_alias_match(expected, predicted):\n",
    "    \"\"\"Return True if predicted equals expected OR equals alias(expected).\"\"\"\n",
    "    return predicted == expected or predicted == INTENT_ALIASES.get(expected, None)\n",
    "\n",
    "for text, expected in TEST_ITEMS:\n",
    "    # TODO: ❸ Send message to the Assistant API and capture top intent and confidence\n",
    "    # resp = assistant.message(...).get_result()\n",
    "    # top_intent = ...\n",
    "    # conf = ...\n",
    "    \n",
    "    # --- student complete here ---\n",
    "    strict_ok = ___   # True if top_intent == expected\n",
    "    alias_ok  = ___   # True if is_alias_match(expected, top_intent)\n",
    "    \n",
    "    rows.append({\n",
    "        \"utterance\": text,\n",
    "        \"expected_intent\": expected,\n",
    "        \"predicted_intent\": top_intent,\n",
    "        \"confidence\": round(conf, 3),\n",
    "        \"strict_correct\": strict_ok,\n",
    "        \"alias_correct\": alias_ok\n",
    "    })\n",
    "\n",
    "df = pd.DataFrame(rows)\n",
    "\n",
    "# --- METRICS (students complete this section) ---\n",
    "N = len(df)\n",
    "\n",
    "# TODO: ❹ Compute strict accuracy and alias-adjusted accuracy\n",
    "# strict_acc = ...\n",
    "# alias_acc  = ...\n",
    "\n",
    "print(\"\\n=== Watson Assistant Evaluation ===\")\n",
    "print(f\"Samples: {N}\")\n",
    "print(f\"Strict Accuracy:        {strict_acc:.2%}\")\n",
    "print(f\"Alias-Adjusted Accuracy:{alias_acc:.2%}\\n\")\n",
    "\n",
    "# TODO: ❺ Compute a simple confusion matrix (optional bonus)\n",
    "# Hint: use pd.crosstab(df[\"expected_intent\"], df[\"predicted_intent\"])\n",
    "# cm = ...\n",
    "# print(cm)\n",
    "\n",
    "# --- Reflection (students discuss in class) ---\n",
    "# ✅ What does the difference between strict and alias accuracy tell you?\n",
    "# ✅ When would alias-adjusted accuracy be a better indicator?\n",
    "# ✅ How could you extend this evaluation to include precision/recall or F1?"
   ]
  },
  {
   "cell_type": "code",
   "execution_count": null,
   "id": "60b7b3cb",
   "metadata": {},
   "outputs": [],
   "source": []
  }
 ],
 "metadata": {
  "kernelspec": {
   "display_name": "Python 3",
   "language": "python",
   "name": "python3"
  },
  "language_info": {
   "codemirror_mode": {
    "name": "ipython",
    "version": 3
   },
   "file_extension": ".py",
   "mimetype": "text/x-python",
   "name": "python",
   "nbconvert_exporter": "python",
   "pygments_lexer": "ipython3",
   "version": "3.11.11"
  }
 },
 "nbformat": 4,
 "nbformat_minor": 5
}
